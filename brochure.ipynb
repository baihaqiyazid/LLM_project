{
 "cells": [
  {
   "cell_type": "code",
   "execution_count": 2,
   "id": "641ea008-818f-41c8-9ca3-856d10c40dd7",
   "metadata": {},
   "outputs": [],
   "source": [
    "import os\n",
    "import requests\n",
    "from bs4 import BeautifulSoup\n",
    "from typing import List\n",
    "from dotenv import load_dotenv\n",
    "from openai import OpenAI\n",
    "import gradio as gr # oh yeah!"
   ]
  },
  {
   "cell_type": "code",
   "execution_count": 3,
   "id": "1f092c8a-a422-4ab7-9814-25be1bae7477",
   "metadata": {},
   "outputs": [
    {
     "name": "stdout",
     "output_type": "stream",
     "text": [
      "OpenAI API Key exists and begins sk-proj-\n"
     ]
    }
   ],
   "source": [
    "load_dotenv()\n",
    "openai_api_key = os.getenv('OPENAI_API_KEY')\n",
    "\n",
    "if openai_api_key:\n",
    "    print(f\"OpenAI API Key exists and begins {openai_api_key[:8]}\")\n",
    "else:\n",
    "    print(\"OpenAI API Key not set\")\n",
    "\n",
    "openai = OpenAI()"
   ]
  },
  {
   "cell_type": "markdown",
   "id": "223a6268-1cc4-4ada-b761-9a6bccc6e6ed",
   "metadata": {},
   "source": [
    "## Create Scraper Website Class\n",
    "\n",
    "https://uai.ac.id/en/home/\n",
    "\n",
    "https://uai.ac.id/en/about-us/\n",
    "\n",
    "https://uai.ac.id/en/academics/\n",
    "\n",
    "https://penerimaan.uai.ac.id/"
   ]
  },
  {
   "cell_type": "code",
   "execution_count": 4,
   "id": "5a54b6ee-03e7-4cd5-bb01-d4f256eb1ee6",
   "metadata": {},
   "outputs": [],
   "source": [
    "class Website:\n",
    "    def __init__(self, urls):\n",
    "        self.urls = urls if isinstance(urls, list) else [urls]\n",
    "        self.webpages = []\n",
    "        for url in self.urls:\n",
    "            self.process_url(url)\n",
    "\n",
    "    def process_url(self, url):\n",
    "        response = requests.get(url)\n",
    "        body = response.content\n",
    "        soup = BeautifulSoup(body, 'html.parser')\n",
    "        title = soup.title.string if soup.title else \"No title found\"\n",
    "        for irrelevant in soup.body([\"script\", \"style\", \"img\", \"input\"]):\n",
    "            irrelevant.decompose()\n",
    "        text = soup.body.get_text(separator=\"\\n\", strip=True)\n",
    "\n",
    "        social_links = self.get_social_media_links(soup)\n",
    "        self.webpages.append({\n",
    "            \"url\": url,\n",
    "            \"title\": title,\n",
    "            \"text\": text,\n",
    "            \"social_links\": social_links\n",
    "        })\n",
    "\n",
    "    def get_contents(self):\n",
    "        contents = \"\"\n",
    "        for page in self.webpages:\n",
    "            contents += f\"URL: {page['url']}\\n\"\n",
    "            contents += f\"Webpage Title: {page['title']}\\n\"\n",
    "            contents += f\"Webpage Contents:\\n{page['text']}\\n\\n\"\n",
    "            \n",
    "            # Add social media links if available\n",
    "            if page['social_links']:\n",
    "                contents += \"Social Media Links:\\n\"\n",
    "                for link in page['social_links']:\n",
    "                    contents += f\"- {link}\\n\"\n",
    "            contents += \"\\n\"\n",
    "        return contents\n",
    "\n",
    "    def get_social_media_links(self, soup):\n",
    "        social_media_sites = [\"twitter\", \"facebook\", \"instagram\", \"linkedin\", \"youtube\"]\n",
    "        social_links = []\n",
    "\n",
    "        # Find all links that contain social media URLs\n",
    "        for link in soup.find_all(\"a\", href=True):\n",
    "            href = link['href'].lower()\n",
    "            for site in social_media_sites:\n",
    "                if site in href:\n",
    "                    social_links.append(href)\n",
    "                    break\n",
    "        \n",
    "        return social_links"
   ]
  },
  {
   "cell_type": "code",
   "execution_count": 5,
   "id": "e5f7d989-692b-4fce-a97c-58b949d7915a",
   "metadata": {
    "scrolled": true
   },
   "outputs": [],
   "source": [
    "urls = [\n",
    "    \"https://uai.ac.id/en/home/\",\n",
    "    \"https://uai.ac.id/en/about-us/\",\n",
    "    \"https://uai.ac.id/en/academics/\",\n",
    "    \"https://penerimaan.uai.ac.id/\",\n",
    "]"
   ]
  },
  {
   "cell_type": "markdown",
   "id": "10ef627d-bd56-4557-8428-c17979a23e03",
   "metadata": {},
   "source": [
    "## Steam GPT"
   ]
  },
  {
   "cell_type": "code",
   "execution_count": 12,
   "id": "c71f43ec-c95f-423c-9ec0-82f033e0b773",
   "metadata": {},
   "outputs": [],
   "source": [
    "system_message = (\n",
    "    \"You are an assistant that analyzes the contents of a university or college website landing page \"\n",
    "    \"and creates a concise, informative, and visually engaging brochure. The brochure should be tailored for \"\n",
    "    \"prospective students, academic partners, and potential investors. Highlight the university's academic strengths, \"\n",
    "    \"vision and mission, key faculties or departments, student life, accreditation, achievements, and global collaborations. \"\n",
    "    \"Include admissions information, contact details, and direct links to apply or learn more. Respond in markdown format, \"\n",
    "    \"suitable for web and print adaptation.\"\n",
    ")\n",
    "\n",
    "def stream_gpt(prompt):\n",
    "    messages = [\n",
    "        {\"role\": \"system\", \"content\": system_message},\n",
    "        {\"role\": \"user\", \"content\": prompt}\n",
    "      ]\n",
    "    stream = openai.chat.completions.create(\n",
    "        model='gpt-4-turbo',\n",
    "        messages=messages,\n",
    "        stream=True\n",
    "    )\n",
    "    result = \"\"\n",
    "    for chunk in stream:\n",
    "        result += chunk.choices[0].delta.content or \"\"\n",
    "        yield result"
   ]
  },
  {
   "cell_type": "markdown",
   "id": "f9981e5f-e779-4ce0-b66d-c945fc55e21b",
   "metadata": {},
   "source": [
    "## Stream Brochure"
   ]
  },
  {
   "cell_type": "code",
   "execution_count": 13,
   "id": "c6080ee8-80e9-4ff7-87c0-9a5ecf4d5975",
   "metadata": {},
   "outputs": [],
   "source": [
    "def stream_brochure(company_name, urls):\n",
    "    url_list = urls.split('\\n')\n",
    "    prompt = (\n",
    "    f\"Please generate a professional and visually appealing company brochure for {company_name}. \"\n",
    "    \"The brochure should highlight the company's vision, services/products, key achievements, and contact information. \"\n",
    "    \"Make sure to include design elements that match the company's branding. \"\n",
    "    \"Also, clearly feature the following comapny and admission links\"\n",
    "    \"The brochure should be suitable for both print and digital distribution. \"\n",
    ")\n",
    "    prompt += Website(url_list).get_contents()\n",
    "    \n",
    "    result = stream_gpt(prompt)\n",
    "    yield from result"
   ]
  },
  {
   "cell_type": "markdown",
   "id": "6fbf2441-78af-4ace-a025-6735b2ef0d01",
   "metadata": {},
   "source": [
    "## UI"
   ]
  },
  {
   "cell_type": "code",
   "execution_count": 14,
   "id": "54045389-cc23-41a1-ab8d-04bcf28d4d18",
   "metadata": {},
   "outputs": [
    {
     "name": "stdout",
     "output_type": "stream",
     "text": [
      "* Running on local URL:  http://127.0.0.1:7870\n",
      "\n",
      "To create a public link, set `share=True` in `launch()`.\n"
     ]
    },
    {
     "data": {
      "text/html": [
       "<div><iframe src=\"http://127.0.0.1:7870/\" width=\"80%\" height=\"450\" allow=\"autoplay; camera; microphone; clipboard-read; clipboard-write;\" frameborder=\"0\" allowfullscreen></iframe></div>"
      ],
      "text/plain": [
       "<IPython.core.display.HTML object>"
      ]
     },
     "metadata": {},
     "output_type": "display_data"
    },
    {
     "data": {
      "text/plain": []
     },
     "execution_count": 14,
     "metadata": {},
     "output_type": "execute_result"
    }
   ],
   "source": [
    "def add_url(current_urls, new_url):\n",
    "    if not new_url.strip():\n",
    "        return current_urls, \"\"\n",
    "    \n",
    "    if not (new_url.startswith(\"http://\") or new_url.startswith(\"https://\")):\n",
    "        new_url = \"https://\" + new_url\n",
    "    \n",
    "    if current_urls:\n",
    "        if not current_urls.endswith('\\n'):\n",
    "            current_urls += '\\n'\n",
    "        current_urls += new_url\n",
    "    else:\n",
    "        current_urls = new_url\n",
    "    \n",
    "    return current_urls, \"\"  \n",
    "\n",
    "with gr.Blocks(theme=gr.themes.Soft(primary_hue=\"blue\")) as app:\n",
    "    gr.Markdown(\"## Company Brochure Generator\")\n",
    "    \n",
    "    with gr.Row():\n",
    "        company_name = gr.Textbox(\n",
    "            label=\"Company Name\", \n",
    "            placeholder=\"Enter company name\",\n",
    "            show_label=True,\n",
    "            scale=1\n",
    "        )\n",
    "    \n",
    "    gr.Markdown(\"### URLs\")\n",
    "    \n",
    "    with gr.Row():\n",
    "        new_url_input = gr.Textbox(\n",
    "            label=\"\", \n",
    "            placeholder=\"Enter URL (e.g., example.com)\",\n",
    "            show_label=False,\n",
    "            scale=4\n",
    "        )\n",
    "        add_button = gr.Button(\"Add\", size=\"md\", scale=1, variant=\"primary\")\n",
    "    \n",
    "    urls_list = gr.Textbox(\n",
    "        label=\"URL List\", \n",
    "        placeholder=\"URLs will appear here or add here with new line\",\n",
    "        lines=3,\n",
    "        show_label=True\n",
    "    )\n",
    "    \n",
    "    generate_button = gr.Button(\"Generate Brochure\", size=\"md\", variant=\"primary\")\n",
    "    \n",
    "    output = gr.Markdown(label=\"Generated Brochure\")\n",
    "    \n",
    "    # Set up events\n",
    "    add_button.click(\n",
    "        fn=add_url, \n",
    "        inputs=[urls_list, new_url_input], \n",
    "        outputs=[urls_list, new_url_input]\n",
    "    )\n",
    "    \n",
    "    generate_button.click(\n",
    "        fn=stream_brochure, \n",
    "        inputs=[company_name, urls_list], \n",
    "        outputs=output,\n",
    "        scroll_to_output=True,\n",
    "        show_progress=\"minimal\"\n",
    "    )\n",
    "\n",
    "# Launch the app with reduced height\n",
    "app.launch(height=450, width=\"80%\")"
   ]
  },
  {
   "cell_type": "raw",
   "id": "150d00f4-b454-49e1-a867-2e79e449adcb",
   "metadata": {},
   "source": [
    "https://uai.ac.id/en/home/\n",
    "https://uai.ac.id/en/about-us/\n",
    "https://uai.ac.id/en/academics/\n",
    "https://penerimaan.uai.ac.id/"
   ]
  },
  {
   "cell_type": "code",
   "execution_count": null,
   "id": "5ebccb4a-eec0-4556-96f1-3a94e5f77bbe",
   "metadata": {},
   "outputs": [],
   "source": []
  }
 ],
 "metadata": {
  "kernelspec": {
   "display_name": "Python 3 (ipykernel)",
   "language": "python",
   "name": "python3"
  },
  "language_info": {
   "codemirror_mode": {
    "name": "ipython",
    "version": 3
   },
   "file_extension": ".py",
   "mimetype": "text/x-python",
   "name": "python",
   "nbconvert_exporter": "python",
   "pygments_lexer": "ipython3",
   "version": "3.11.0"
  }
 },
 "nbformat": 4,
 "nbformat_minor": 5
}
