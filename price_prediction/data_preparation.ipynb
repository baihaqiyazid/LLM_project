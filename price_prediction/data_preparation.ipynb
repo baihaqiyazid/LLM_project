{
 "cells": [
  {
   "cell_type": "code",
   "execution_count": 34,
   "id": "637f136e-a44b-4d3c-9bf7-0996edd1a3f9",
   "metadata": {},
   "outputs": [],
   "source": [
    "import os\n",
    "from dotenv import load_dotenv\n",
    "from huggingface_hub import login\n",
    "from datasets import load_dataset, Dataset, DatasetDict\n",
    "import matplotlib.pyplot as plt"
   ]
  },
  {
   "cell_type": "code",
   "execution_count": 35,
   "id": "3c0d5f8d-6f5e-495d-b5ab-2f2c52a4665d",
   "metadata": {},
   "outputs": [
    {
     "name": "stderr",
     "output_type": "stream",
     "text": [
      "Note: Environment variable`HF_TOKEN` is set and is the current active token independently from the token you've just configured.\n"
     ]
    }
   ],
   "source": [
    "load_dotenv()\n",
    "os.environ['OPENAI_API_KEY'] = os.getenv('OPENAI_API_KEY', 'your-key-if-not-using-env')\n",
    "\n",
    "hf_token = os.environ['HF_TOKEN']\n",
    "login(hf_token, add_to_git_credential=True)"
   ]
  },
  {
   "cell_type": "code",
   "execution_count": 36,
   "id": "d1be1eaa-e0c4-415f-9000-6816085decf1",
   "metadata": {},
   "outputs": [],
   "source": [
    "dataset = load_dataset(\"McAuley-Lab/Amazon-Reviews-2023\", f\"raw_meta_Video_Games\", split=\"full\", trust_remote_code=True)"
   ]
  },
  {
   "cell_type": "markdown",
   "id": "50bbfad9-4127-47d2-8a7b-eedde9500e9c",
   "metadata": {},
   "source": [
    "title \n",
    "description\n",
    "average_rating\n",
    "price\n",
    "store\n",
    "subtitle"
   ]
  },
  {
   "cell_type": "code",
   "execution_count": 37,
   "id": "9a2d4ad2-ca8b-4f9d-8e61-1afbdcffc3b8",
   "metadata": {},
   "outputs": [
    {
     "data": {
      "text/plain": [
       "{'main_category': 'Video Games',\n",
       " 'title': 'Dash 8-300 Professional Add-On',\n",
       " 'average_rating': 5.0,\n",
       " 'rating_number': 1,\n",
       " 'features': [\"Features Dash 8-300 and 8-Q300 ('Q' rollout livery)\",\n",
       "  'Airlines - US Airways, South African Express, Bahamasair, Augsburg Airways, Lufthansa Cityline, British Airways (Union Jack), British European, FlyBe, Intersky, Wideroe, Iberia, Tyrolean, QantasLink, BWIA',\n",
       "  'Airports include - London City, Frankfurt, Milan and Amsterdam Schipol',\n",
       "  'Includes PSS PanelConfig and LoadEdit tools'],\n",
       " 'description': ['The Dash 8-300 Professional Add-On lets you pilot a real commuter special. Fly two versions of the popular Dash 8-300 in a total of 17 different liveries. The Dash 8-300 is one of the most popular short-haul aircraft available and this superbly modelled version from acclaimed aircraft developers PSS is modelled in two versions with a total of 17 different liveries. The package also includes scenery for three European airports, tutorials, tutorial flights and utilities together in one fantastic package.'],\n",
       " 'price': 'None',\n",
       " 'images': {'hi_res': [None],\n",
       "  'large': ['https://m.media-amazon.com/images/I/21DVWE41A0L.jpg'],\n",
       "  'thumb': ['https://m.media-amazon.com/images/I/21DVWE41A0L._SX38_SY50_CR,0,0,38,50_.jpg'],\n",
       "  'variant': ['MAIN']},\n",
       " 'videos': {'title': [], 'url': [], 'user_id': []},\n",
       " 'store': 'Aerosoft',\n",
       " 'categories': ['Video Games', 'PC', 'Games'],\n",
       " 'details': '{\"Pricing\": \"The strikethrough price is the List Price. Savings represents a discount off the List Price.\", \"Package Dimensions\": \"7.5 x 5.5 x 0.6 inches; 4.8 Ounces\", \"Type of item\": \"CD-ROM\", \"Rated\": \"Everyone\", \"Item Weight\": \"4.8 ounces\", \"Manufacturer\": \"Aerosoft N.A. LTD\", \"Date First Available\": \"October 2, 2001\"}',\n",
       " 'parent_asin': 'B000FH0MHO',\n",
       " 'bought_together': None,\n",
       " 'subtitle': None,\n",
       " 'author': None}"
      ]
     },
     "execution_count": 37,
     "metadata": {},
     "output_type": "execute_result"
    }
   ],
   "source": [
    "dataset[0]"
   ]
  },
  {
   "cell_type": "code",
   "execution_count": 38,
   "id": "5a13fe88-f0c6-465d-8385-a8e5ea383a3f",
   "metadata": {},
   "outputs": [
    {
     "data": {
      "text/plain": [
       "datasets.arrow_dataset.Dataset"
      ]
     },
     "execution_count": 38,
     "metadata": {},
     "output_type": "execute_result"
    }
   ],
   "source": [
    "type(dataset)"
   ]
  },
  {
   "cell_type": "code",
   "execution_count": 39,
   "id": "627b535a-6803-4d7d-aa69-717652092185",
   "metadata": {},
   "outputs": [
    {
     "name": "stdout",
     "output_type": "stream",
     "text": [
      "{'main_category': 'Video Games', 'title': 'NBA 2K17 - Early Tip Off Edition - PlayStation 4', 'average_rating': 4.3, 'rating_number': 223, 'features': ['The #1 rated NBA video game simulation series for the last 15 years (Metacritic).', 'The #1 selling NBA video game simulation series for the last 9 years (NPD).', 'Over 85 awards and nominations since the launch of PlayStation 4 & Xbox One.', 'BEST IN CLASS GAMEPLAY - 2K puts shot making in your hands like never before. Advanced Skill Shooting gives you complete control over the power and aim of your perimeter shots as well as your ability to finish inside the paint.', 'THE PRELUDE - Begin your MyCAREER on one of 10 licensed collegiate programs, available for free download one week prior to launch!', 'MyCAREER - It’s all-new and all about basketball in 2K17 – and you’re in control. Your on-court performance and career decisions lead to different outcomes as you determine your path through an immersive new narrative, featuring Michael B. Jordan. Additionally, new player controls give you unparalleled supremacy on the court.', 'USA BASKETBALL - Take the court as Team USA with Coach K on the sidelines, or relive the glory of the ’92 Dream Team. Earn USAB MyTEAM cards and gear up your MyPLAYER with official USAB wearables.', 'COLLEGE INTEGRATION - For the first time, play as college basketball legends with each school’s all-time greats team and MyTEAM cards.', 'LEAGUE EXPANSION - For the first time, customize your MyLEAGUE and MyGM experience with league expansion. Choose your expansion team names, logos and uniforms, and share them with the rest of the NBA 2K community. Your customized league comes complete with everything from Expansion Drafts to modified schedules and more to ensure an authentic NBA experience.', '2K BEATS Imagine Dragons, Grimes, Noah “40” Shabib of OVO Sound and Michael B. Jordan curate another electric 2K soundtrack, featuring 50 songs.'], 'description': ['Following the record-breaking launch of NBA 2K16, the NBA 2K franchise continues to stake its claim as the most authentic sports video game with NBA 2K17. As the franchise that “all sports video games should aspire to be” (GamesRadar), NBA 2K17 will take the game to new heights and continue to blur the lines between video game and reality.'], 'price': '58.0', 'images': {'hi_res': ['https://m.media-amazon.com/images/I/81MtBG4xXhL._SL1500_.jpg', 'https://m.media-amazon.com/images/I/81fby40wGQL._SL1500_.jpg', 'https://m.media-amazon.com/images/I/71VFYALs8qL._SL1500_.jpg', 'https://m.media-amazon.com/images/I/71ZbTa0QT4L._SL1500_.jpg', 'https://m.media-amazon.com/images/I/71kIQMjnwWL._SL1500_.jpg', 'https://m.media-amazon.com/images/I/71RyXZvZA2L._SL1500_.jpg', 'https://m.media-amazon.com/images/I/71PdzeowO3L._SL1500_.jpg', 'https://m.media-amazon.com/images/I/81Anx48IQUL._SL1500_.jpg', 'https://m.media-amazon.com/images/I/71mrJKrLwJL._SL1500_.jpg', 'https://m.media-amazon.com/images/I/61CSnSRFIJL._SL1500_.jpg'], 'large': ['https://m.media-amazon.com/images/I/51wlIPcf0gL.jpg', 'https://m.media-amazon.com/images/I/51smI92XGdL.jpg', 'https://m.media-amazon.com/images/I/41B2Li+r-6L.jpg', 'https://m.media-amazon.com/images/I/518ADy9h+wL.jpg', 'https://m.media-amazon.com/images/I/41EsOEFBg0L.jpg', 'https://m.media-amazon.com/images/I/41JUeBKY2EL.jpg', 'https://m.media-amazon.com/images/I/41aPDXtqZxL.jpg', 'https://m.media-amazon.com/images/I/411-B81va7L.jpg', 'https://m.media-amazon.com/images/I/41g1KDskmML.jpg', 'https://m.media-amazon.com/images/I/411DcBq41HL.jpg'], 'thumb': ['https://m.media-amazon.com/images/I/51wlIPcf0gL._SX38_SY50_CR,0,0,38,50_.jpg', 'https://m.media-amazon.com/images/I/51smI92XGdL._SX38_SY50_CR,0,0,38,50_.jpg', 'https://m.media-amazon.com/images/I/41B2Li+r-6L._SX38_SY50_CR,0,0,38,50_.jpg', 'https://m.media-amazon.com/images/I/518ADy9h+wL._SX38_SY50_CR,0,0,38,50_.jpg', 'https://m.media-amazon.com/images/I/41EsOEFBg0L._SX38_SY50_CR,0,0,38,50_.jpg', 'https://m.media-amazon.com/images/I/41JUeBKY2EL._SX38_SY50_CR,0,0,38,50_.jpg', 'https://m.media-amazon.com/images/I/41aPDXtqZxL._SX38_SY50_CR,0,0,38,50_.jpg', 'https://m.media-amazon.com/images/I/411-B81va7L._SX38_SY50_CR,0,0,38,50_.jpg', 'https://m.media-amazon.com/images/I/41g1KDskmML._SX38_SY50_CR,0,0,38,50_.jpg', 'https://m.media-amazon.com/images/I/411DcBq41HL._SX38_SY50_CR,0,0,38,50_.jpg'], 'variant': ['MAIN', 'PT02', 'PT05', 'PT06', 'PT07', 'PT08', 'PT09', 'PT10', 'PT11', 'GLMR']}, 'videos': {'title': ['NBA 2K17 - Kobe: Haters vs Players'], 'url': ['https://www.amazon.com/vdp/386e44f88d0f41d99714076c93459753?ref=dp_vse_rvc_0'], 'user_id': ['']}, 'store': '2K', 'categories': ['Video Games', 'PlayStation 4', 'Games'], 'details': '{\"Release date\": \"September 16, 2016\", \"Best Sellers Rank\": {\"Video Games\": 57637, \"PlayStation 4 Games\": 2886}, \"Pricing\": \"The strikethrough price is the List Price. Savings represents a discount off the List Price.\", \"Product Dimensions\": \"0.4 x 5.3 x 6.6 inches; 1.6 Ounces\", \"Type of item\": \"Video Game\", \"Rated\": \"Everyone\", \"Item model number\": \"47793\", \"Is Discontinued By Manufacturer\": \"No\", \"Item Weight\": \"1.6 ounces\", \"Manufacturer\": \"2K Games\", \"Date First Available\": \"April 13, 2016\"}', 'parent_asin': 'B00Z9TLVK0', 'bought_together': None, 'subtitle': None, 'author': None}\n",
      "====================\n",
      "\n",
      "{'main_category': 'Video Games', 'title': 'Nintendo Selects: The Legend of Zelda Ocarina of Time 3D (Renewed)', 'average_rating': 4.9, 'rating_number': 22, 'features': ['Authentic Nintendo Selects: The Legend of Zelda Ocarina of Time 3D', 'Does not come with original case or manuals. Cartridge only', 'Cartridge and label are in nice condition', 'Fully tested and guaranteed'], 'description': [], 'price': '37.42', 'images': {'hi_res': ['https://m.media-amazon.com/images/I/81dM82yx6wL._SL1500_.jpg', None, None, None], 'large': ['https://m.media-amazon.com/images/I/51raO0wAe8L.jpg', 'https://m.media-amazon.com/images/I/51ag4Lai25L.jpg', 'https://m.media-amazon.com/images/I/41D7zacd5cL.jpg', 'https://m.media-amazon.com/images/I/41sNSMvZGAL.jpg'], 'thumb': ['https://m.media-amazon.com/images/I/51raO0wAe8L._SX38_SY50_CR,0,0,38,50_.jpg', 'https://m.media-amazon.com/images/I/51ag4Lai25L._SX38_SY50_CR,0,0,38,50_.jpg', 'https://m.media-amazon.com/images/I/41D7zacd5cL._SX38_SY50_CR,0,0,38,50_.jpg', 'https://m.media-amazon.com/images/I/41sNSMvZGAL._SX38_SY50_CR,0,0,38,50_.jpg'], 'variant': ['MAIN', 'PT01', 'PT02', 'PT03']}, 'videos': {'title': [], 'url': [], 'user_id': []}, 'store': 'Amazon Renewed', 'categories': ['Video Games', 'Legacy Systems', 'Nintendo Systems', 'Nintendo 3DS & 2DS', 'Games'], 'details': '{\"Best Sellers Rank\": {\"Video Games\": 51019, \"Nintendo 3DS & 2DS Games\": 432}, \"Pricing\": \"The strikethrough price is the List Price. Savings represents a discount off the List Price.\", \"Product Dimensions\": \"0.5 x 5.4 x 4.9 inches; 2.05 Ounces\", \"Type of item\": \"Video Game\", \"Rated\": \"Everyone 10+\", \"Is Discontinued By Manufacturer\": \"No\", \"Item Weight\": \"2.04 ounces\", \"Manufacturer\": \"Nintendo\", \"Date First Available\": \"June 14, 2019\"}', 'parent_asin': 'B07SZJZV88', 'bought_together': None, 'subtitle': None, 'author': None}\n",
      "====================\n",
      "\n"
     ]
    }
   ],
   "source": [
    "i = 0\n",
    "for data in dataset:\n",
    "    if data[\"price\"] != 'None':\n",
    "        print(data)\n",
    "        print(f\"{'='*20}\\n\")\n",
    "    i = i + 1\n",
    "    if i  == 5:\n",
    "        break"
   ]
  },
  {
   "cell_type": "markdown",
   "id": "2ce47363-cba6-43b4-9f15-4cd3049ed47f",
   "metadata": {},
   "source": [
    "# Data Preparation"
   ]
  },
  {
   "cell_type": "code",
   "execution_count": 40,
   "id": "23a6a622-55e6-4482-b087-c4adbcbd8117",
   "metadata": {},
   "outputs": [],
   "source": [
    "def is_not_none(row):\n",
    "    columns = ['title', 'description', 'average_rating', 'price', 'store', 'features']\n",
    "    for col in columns:\n",
    "        value = row[col]\n",
    "        if isinstance(value, list):\n",
    "            if not value:  \n",
    "                return False\n",
    "        elif value == 'None' or value == None:\n",
    "            return False\n",
    "    return True\n",
    "\n",
    "filtered_dataset = dataset.filter(is_not_none)"
   ]
  },
  {
   "cell_type": "code",
   "execution_count": 41,
   "id": "2fbcc27b-01b7-402a-85b1-5361927fdf22",
   "metadata": {},
   "outputs": [
    {
     "data": {
      "application/vnd.jupyter.widget-view+json": {
       "model_id": "288b5d4338fa4184b1c9e95f8c87d4df",
       "version_major": 2,
       "version_minor": 0
      },
      "text/plain": [
       "Map:   0%|          | 0/38045 [00:00<?, ? examples/s]"
      ]
     },
     "metadata": {},
     "output_type": "display_data"
    },
    {
     "data": {
      "application/vnd.jupyter.widget-view+json": {
       "model_id": "9857e10fec1a4498819c4fe5e57b3d75",
       "version_major": 2,
       "version_minor": 0
      },
      "text/plain": [
       "Filter:   0%|          | 0/38045 [00:00<?, ? examples/s]"
      ]
     },
     "metadata": {},
     "output_type": "display_data"
    },
    {
     "name": "stdout",
     "output_type": "stream",
     "text": [
      "                                             description  price\n",
      "0      How much does this cost to the nearest dollar?...  58.00\n",
      "1      How much does this cost to the nearest dollar?...  33.98\n",
      "2      How much does this cost to the nearest dollar?...  20.95\n",
      "3      How much does this cost to the nearest dollar?...   4.97\n",
      "4      How much does this cost to the nearest dollar?...  13.99\n",
      "...                                                  ...    ...\n",
      "38040  How much does this cost to the nearest dollar?...  45.99\n",
      "38041  How much does this cost to the nearest dollar?...   9.99\n",
      "38042  How much does this cost to the nearest dollar?...  81.88\n",
      "38043  How much does this cost to the nearest dollar?...   6.10\n",
      "38044  How much does this cost to the nearest dollar?...  31.04\n",
      "\n",
      "[38045 rows x 2 columns]\n"
     ]
    }
   ],
   "source": [
    "from datasets import Dataset\n",
    "import pandas as pd \n",
    "import re\n",
    "\n",
    "def clean_price(price):\n",
    "    if price is None or str(price) == 'None':\n",
    "        return None\n",
    "    try:\n",
    "        cleaned = re.findall(r'\\d+\\.?\\d*', str(price))\n",
    "        return float(cleaned[0]) if cleaned else None\n",
    "    except (ValueError, IndexError):\n",
    "        return None\n",
    "        \n",
    "def process_row(row):\n",
    "    feature = row['features']\n",
    "    desc = row['description']\n",
    "    store = row['store']\n",
    "    avg_rating = row['average_rating']\n",
    "    title = row['title']\n",
    "    price = row['price']\n",
    "    \n",
    "    desc_str = ' '.join(desc) if isinstance(desc, list) else str(desc)\n",
    "    store_str = ' '.join(store) if isinstance(store, list) else str(store)\n",
    "\n",
    "    feature_str = ' '.join(feature) if isinstance(feature, list) else str(feature)\n",
    "    avg_rating_str = ' '.join(avg_rating) if isinstance(avg_rating, list) else str(avg_rating)\n",
    "    title_str = ' '.join(title) if isinstance(title, list) else str(title)\n",
    "    \n",
    "    new_desc = f\"\"\"How much does this cost to the nearest dollar?\n",
    "    \n",
    "title: {title_str}\n",
    "features: {feature_str}\n",
    "description: {desc_str}\n",
    "store: {store_str}\n",
    "avg_rating: {avg_rating_str}\n",
    "\n",
    "Price is ${clean_price(price)}\n",
    "    \"\"\".strip()\n",
    "    \n",
    "    return {\n",
    "        'description': new_desc,\n",
    "        'price': clean_price(price)\n",
    "    }\n",
    "\n",
    "def filter_and_map(row):\n",
    "    result = process_row(row)\n",
    "    return result is not None\n",
    "\n",
    "processed_dataset = filtered_dataset.map(process_row, remove_columns=dataset.column_names)\n",
    "filtered_dataset = processed_dataset.filter(lambda x: x is not None)\n",
    "print(filtered_dataset.to_pandas())"
   ]
  },
  {
   "cell_type": "code",
   "execution_count": 42,
   "id": "48a1e390-25f7-4bb6-9447-10c815fe4d0a",
   "metadata": {},
   "outputs": [
    {
     "name": "stdout",
     "output_type": "stream",
     "text": [
      "How much does this cost to the nearest dollar?\n",
      "    \n",
      "title: NBA 2K17 - Early Tip Off Edition - PlayStation 4\n",
      "features: The #1 rated NBA video game simulation series for the last 15 years (Metacritic). The #1 selling NBA video game simulation series for the last 9 years (NPD). Over 85 awards and nominations since the launch of PlayStation 4 & Xbox One. BEST IN CLASS GAMEPLAY - 2K puts shot making in your hands like never before. Advanced Skill Shooting gives you complete control over the power and aim of your perimeter shots as well as your ability to finish inside the paint. THE PRELUDE - Begin your MyCAREER on one of 10 licensed collegiate programs, available for free download one week prior to launch! MyCAREER - It’s all-new and all about basketball in 2K17 – and you’re in control. Your on-court performance and career decisions lead to different outcomes as you determine your path through an immersive new narrative, featuring Michael B. Jordan. Additionally, new player controls give you unparalleled supremacy on the court. USA BASKETBALL - Take the court as Team USA with Coach K on the sidelines, or relive the glory of the ’92 Dream Team. Earn USAB MyTEAM cards and gear up your MyPLAYER with official USAB wearables. COLLEGE INTEGRATION - For the first time, play as college basketball legends with each school’s all-time greats team and MyTEAM cards. LEAGUE EXPANSION - For the first time, customize your MyLEAGUE and MyGM experience with league expansion. Choose your expansion team names, logos and uniforms, and share them with the rest of the NBA 2K community. Your customized league comes complete with everything from Expansion Drafts to modified schedules and more to ensure an authentic NBA experience. 2K BEATS Imagine Dragons, Grimes, Noah “40” Shabib of OVO Sound and Michael B. Jordan curate another electric 2K soundtrack, featuring 50 songs.\n",
      "description: Following the record-breaking launch of NBA 2K16, the NBA 2K franchise continues to stake its claim as the most authentic sports video game with NBA 2K17. As the franchise that “all sports video games should aspire to be” (GamesRadar), NBA 2K17 will take the game to new heights and continue to blur the lines between video game and reality.\n",
      "store: 2K\n",
      "avg_rating: 4.3\n",
      "\n",
      "Price is $58.0\n"
     ]
    }
   ],
   "source": [
    "print(filtered_dataset[0][\"description\"])"
   ]
  },
  {
   "cell_type": "code",
   "execution_count": 43,
   "id": "198a9064-367a-43bb-8a9d-e727df724b9a",
   "metadata": {},
   "outputs": [
    {
     "name": "stdout",
     "output_type": "stream",
     "text": [
      "<class 'pandas.core.frame.DataFrame'>\n",
      "RangeIndex: 38045 entries, 0 to 38044\n",
      "Data columns (total 2 columns):\n",
      " #   Column       Non-Null Count  Dtype  \n",
      "---  ------       --------------  -----  \n",
      " 0   description  38045 non-null  object \n",
      " 1   price        38045 non-null  float64\n",
      "dtypes: float64(1), object(1)\n",
      "memory usage: 594.6+ KB\n"
     ]
    }
   ],
   "source": [
    "tess = filtered_dataset.to_pandas()\n",
    "tess.info()"
   ]
  },
  {
   "cell_type": "markdown",
   "id": "b8ea6062-814b-4928-880e-fb8f4d05c35d",
   "metadata": {},
   "source": [
    "# EDA"
   ]
  },
  {
   "cell_type": "code",
   "execution_count": 44,
   "id": "7e90b6b3-9651-4fa0-b191-480e384586b1",
   "metadata": {},
   "outputs": [
    {
     "data": {
      "image/png": "[encoded data removed]",
      "text/plain": [
       "<Figure size 1000x600 with 1 Axes>"
      ]
     },
     "metadata": {},
     "output_type": "display_data"
    }
   ],
   "source": [
    "import matplotlib.pyplot as plt\n",
    "\n",
    "# Ambil DataFrame\n",
    "items = filtered_dataset.to_pandas()\n",
    "\n",
    "# Buat histogram\n",
    "plt.figure(figsize=(10, 6))\n",
    "plt.title(f\"Prices: Avg {items['price'].mean():,.1f} and highest {items['price'].max():,.2f}\\n\")\n",
    "plt.xlabel('Price ($)')\n",
    "plt.ylabel('Count')\n",
    "plt.hist(items['price'], rwidth=0.5, color=\"blueviolet\", bins=range(0, int(items['price'].max())))\n",
    "plt.grid(True, alpha=0.3)\n",
    "plt.show()"
   ]
  },
  {
   "cell_type": "code",
   "execution_count": 45,
   "id": "2ac65d26-3b27-4f02-a3a8-446a19dae780",
   "metadata": {},
   "outputs": [
    {
     "name": "stdout",
     "output_type": "stream",
     "text": [
      "Outliers 3870:                                              description   price\n",
      "5      How much does this cost to the nearest dollar?...  182.93\n",
      "26     How much does this cost to the nearest dollar?...  185.00\n",
      "41     How much does this cost to the nearest dollar?...  149.00\n",
      "52     How much does this cost to the nearest dollar?...  144.91\n",
      "59     How much does this cost to the nearest dollar?...  185.00\n",
      "...                                                  ...     ...\n",
      "37991  How much does this cost to the nearest dollar?...   93.65\n",
      "38003  How much does this cost to the nearest dollar?...  166.35\n",
      "38012  How much does this cost to the nearest dollar?...   99.99\n",
      "38026  How much does this cost to the nearest dollar?...  184.26\n",
      "38037  How much does this cost to the nearest dollar?...  299.00\n",
      "\n",
      "[3870 rows x 2 columns]\n"
     ]
    }
   ],
   "source": [
    "Q1 = items['price'].quantile(0.25)\n",
    "Q3 = items['price'].quantile(0.75)\n",
    "IQR = Q3 - Q1\n",
    "outliers = items[(items['price'] < Q1 - 1.5 * IQR) | (items['price'] > Q3 + 1.5 * IQR)]\n",
    "print(f\"Outliers {len(outliers)}:\", outliers[['description', 'price']])"
   ]
  },
  {
   "cell_type": "code",
   "execution_count": 46,
   "id": "178117a4-5dda-48c8-85d5-44b4e9f94828",
   "metadata": {},
   "outputs": [
    {
     "name": "stdout",
     "output_type": "stream",
     "text": [
      "Korelasi panjang deskripsi dan harga: 0.03422515857749483\n"
     ]
    }
   ],
   "source": [
    "items['desc_length'] = items['description'].apply(lambda x: len(str(x).split()))\n",
    "correlation = items['desc_length'].corr(items['price'])\n",
    "print(\"Korelasi panjang deskripsi dan harga:\", correlation)"
   ]
  },
  {
   "cell_type": "code",
   "execution_count": 47,
   "id": "17922fe5-8cd2-4327-b34c-609698ad23dc",
   "metadata": {},
   "outputs": [
    {
     "data": {
      "image/png": "[encoded data removed]",
      "text/plain": [
       "<Figure size 1000x600 with 1 Axes>"
      ]
     },
     "metadata": {},
     "output_type": "display_data"
    }
   ],
   "source": [
    "plt.figure(figsize=(10, 6))\n",
    "plt.scatter(items['desc_length'], items['price'], alpha=0.5)\n",
    "plt.title('Descriptiong Length vs Price')\n",
    "plt.xlabel('Descriptiong Length')\n",
    "plt.ylabel('Price ($)')\n",
    "plt.show()"
   ]
  },
  {
   "cell_type": "code",
   "execution_count": 49,
   "id": "9ff1ea0b-805d-42b5-9e5f-22147f0ab144",
   "metadata": {},
   "outputs": [
    {
     "data": {
      "application/vnd.jupyter.widget-view+json": {
       "model_id": "091555ab98544f5ba5bc71f8c240ba0a",
       "version_major": 2,
       "version_minor": 0
      },
      "text/plain": [
       "Uploading the dataset shards:   0%|          | 0/1 [00:00<?, ?it/s]"
      ]
     },
     "metadata": {},
     "output_type": "display_data"
    },
    {
     "data": {
      "application/vnd.jupyter.widget-view+json": {
       "model_id": "d636e2308bd84d2ea4fedde3d63c3601",
       "version_major": 2,
       "version_minor": 0
      },
      "text/plain": [
       "Creating parquet from Arrow format:   0%|          | 0/31 [00:00<?, ?ba/s]"
      ]
     },
     "metadata": {},
     "output_type": "display_data"
    },
    {
     "data": {
      "application/vnd.jupyter.widget-view+json": {
       "model_id": "976f3133cf3e440f821fa37ca2507e5d",
       "version_major": 2,
       "version_minor": 0
      },
      "text/plain": [
       "Uploading the dataset shards:   0%|          | 0/1 [00:00<?, ?it/s]"
      ]
     },
     "metadata": {},
     "output_type": "display_data"
    },
    {
     "data": {
      "application/vnd.jupyter.widget-view+json": {
       "model_id": "29ba14dbc7474553b22aecb5415e7752",
       "version_major": 2,
       "version_minor": 0
      },
      "text/plain": [
       "Creating parquet from Arrow format:   0%|          | 0/8 [00:00<?, ?ba/s]"
      ]
     },
     "metadata": {},
     "output_type": "display_data"
    },
    {
     "data": {
      "application/vnd.jupyter.widget-view+json": {
       "model_id": "eb6584e654ac4a7387ce1f492a1e271a",
       "version_major": 2,
       "version_minor": 0
      },
      "text/plain": [
       "README.md:   0%|          | 0.00/426 [00:00<?, ?B/s]"
      ]
     },
     "metadata": {},
     "output_type": "display_data"
    },
    {
     "name": "stderr",
     "output_type": "stream",
     "text": [
      "No files have been modified since last commit. Skipping to prevent empty commit.\n"
     ]
    },
    {
     "data": {
      "text/plain": [
       "CommitInfo(commit_url='https://huggingface.co/datasets/baihaqiyazid/pricer-data-amazon-video-games/commit/b589a78fb66a1427d6f3240cb5d3c596f22c1d43', commit_message='Upload dataset', commit_description='', oid='b589a78fb66a1427d6f3240cb5d3c596f22c1d43', pr_url=None, repo_url=RepoUrl('https://huggingface.co/datasets/baihaqiyazid/pricer-data-amazon-video-games', endpoint='https://huggingface.co', repo_type='dataset', repo_id='baihaqiyazid/pricer-data-amazon-video-games'), pr_revision=None, pr_num=None)"
      ]
     },
     "execution_count": 49,
     "metadata": {},
     "output_type": "execute_result"
    }
   ],
   "source": [
    "train_test_split = filtered_dataset.train_test_split(test_size=0.2, seed=42)  # seed untuk reproduktibilitas\n",
    "\n",
    "# Buat DatasetDict\n",
    "dataset_dict = DatasetDict({\n",
    "    \"train\": train_test_split[\"train\"],\n",
    "    \"test\": train_test_split[\"test\"]\n",
    "})\n",
    "\n",
    "# Unggah ke Hugging Face\n",
    "dataset_dict.push_to_hub(\"baihaqiyazid/pricer-data-amazon-video-games\")"
   ]
  },
  {
   "cell_type": "code",
   "execution_count": null,
   "id": "66d5f1a8-a153-40c7-862f-ae2e4e7bb6ac",
   "metadata": {},
   "outputs": [],
   "source": []
  }
 ],
 "metadata": {
  "kernelspec": {
   "display_name": "Python 3 (ipykernel)",
   "language": "python",
   "name": "python3"
  },
  "language_info": {
   "codemirror_mode": {
    "name": "ipython",
    "version": 3
   },
   "file_extension": ".py",
   "mimetype": "text/x-python",
   "name": "python",
   "nbconvert_exporter": "python",
   "pygments_lexer": "ipython3",
   "version": "3.11.0"
  }
 },
 "nbformat": 4,
 "nbformat_minor": 5
}
